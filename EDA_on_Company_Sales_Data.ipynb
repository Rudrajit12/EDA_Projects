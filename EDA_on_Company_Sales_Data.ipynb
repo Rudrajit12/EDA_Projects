{
  "nbformat": 4,
  "nbformat_minor": 0,
  "metadata": {
    "colab": {
      "name": "EDA on Company Sales Data.ipynb",
      "provenance": [],
      "collapsed_sections": [],
      "authorship_tag": "ABX9TyPDaBrIhPWlnCucQhMlw1kA",
      "include_colab_link": true
    },
    "kernelspec": {
      "name": "python3",
      "display_name": "Python 3"
    },
    "language_info": {
      "name": "python"
    }
  },
  "cells": [
    {
      "cell_type": "markdown",
      "metadata": {
        "id": "view-in-github",
        "colab_type": "text"
      },
      "source": [
        "<a href=\"https://colab.research.google.com/github/Rudrajit12/EDA_Projects/blob/main/EDA_on_Company_Sales_Data.ipynb\" target=\"_parent\"><img src=\"https://colab.research.google.com/assets/colab-badge.svg\" alt=\"Open In Colab\"/></a>"
      ]
    },
    {
      "cell_type": "markdown",
      "source": [
        "# **<u>Exploratory Data Analysis on Company Sales Data</u>**\n",
        "\n",
        "#### The company sales data contains an example data of some FMCG products used in day to day life. The purpose of this dataset is to play around and visualize different scenarios.\n",
        "\n",
        "#### Description of the dataset: (contains columns as)\n",
        "* month_number: number of each month\n",
        "* facecream: units sold each month for facecream\n",
        "* facewash: units sold each month for facewash\n",
        "* toothpaste: units sold each month for toothpaste\n",
        "* bathingsoap: units sold each month for bathing soap\n",
        "* shampoo: units sold each month for shampoo\n",
        "* moisturizer: units sold each month for moisturizer\n",
        "* total_units: total units sold each month for all the products\n",
        "* total_profit: total profit earned each month for all the products"
      ],
      "metadata": {
        "id": "2Yr_kl0_KIPD"
      }
    },
    {
      "cell_type": "code",
      "execution_count": 16,
      "metadata": {
        "id": "mQ7dbN-vKCwF"
      },
      "outputs": [],
      "source": [
        "# importing the required libraries\n",
        "import numpy as np\n",
        "import pandas as pd\n",
        "import matplotlib.pyplot as plt\n",
        "%matplotlib inline\n",
        "from datetime import datetime\n",
        "import warnings\n",
        "warnings.filterwarnings('ignore')"
      ]
    },
    {
      "cell_type": "code",
      "source": [
        "# mounting the drive\n",
        "from google.colab import drive\n",
        "drive.mount('/content/drive')"
      ],
      "metadata": {
        "colab": {
          "base_uri": "https://localhost:8080/"
        },
        "id": "OaLP6qE5LxH8",
        "outputId": "0f6f3463-bf48-4768-e4c7-a7d4df727e3c"
      },
      "execution_count": 2,
      "outputs": [
        {
          "output_type": "stream",
          "name": "stdout",
          "text": [
            "Mounted at /content/drive\n"
          ]
        }
      ]
    },
    {
      "cell_type": "code",
      "source": [
        "# reading the dataset\n",
        "sales_df = pd.read_csv('/content/drive/My Drive/AlmaBetter Data Science/Module 1/Data Visualization/company_sales_data.csv')\n",
        "sales_df"
      ],
      "metadata": {
        "colab": {
          "base_uri": "https://localhost:8080/",
          "height": 426
        },
        "id": "0pI1HXc1L8Z0",
        "outputId": "4bfe395e-74df-413f-c94b-f4a4563ec846"
      },
      "execution_count": 17,
      "outputs": [
        {
          "output_type": "execute_result",
          "data": {
            "text/plain": [
              "    month_number  facecream  facewash  toothpaste  bathingsoap  shampoo  \\\n",
              "0              1       2500      1500        5200         9200     1200   \n",
              "1              2       2630      1200        5100         6100     2100   \n",
              "2              3       2140      1340        4550         9550     3550   \n",
              "3              4       3400      1130        5870         8870     1870   \n",
              "4              5       3600      1740        4560         7760     1560   \n",
              "5              6       2760      1555        4890         7490     1890   \n",
              "6              7       2980      1120        4780         8980     1780   \n",
              "7              8       3700      1400        5860         9960     2860   \n",
              "8              9       3540      1780        6100         8100     2100   \n",
              "9             10       1990      1890        8300        10300     2300   \n",
              "10            11       2340      2100        7300        13300     2400   \n",
              "11            12       2900      1760        7400        14400     1800   \n",
              "\n",
              "    moisturizer  total_units  total_profit  \n",
              "0          1500        21100        211000  \n",
              "1          1200        18330        183300  \n",
              "2          1340        22470        224700  \n",
              "3          1130        22270        222700  \n",
              "4          1740        20960        209600  \n",
              "5          1555        20140        201400  \n",
              "6          1120        29550        295500  \n",
              "7          1400        36140        361400  \n",
              "8          1780        23400        234000  \n",
              "9          1890        26670        266700  \n",
              "10         2100        41280        412800  \n",
              "11         1760        30020        300200  "
            ],
            "text/html": [
              "\n",
              "  <div id=\"df-317a3c23-7127-4488-a81f-5eb3509d7183\">\n",
              "    <div class=\"colab-df-container\">\n",
              "      <div>\n",
              "<style scoped>\n",
              "    .dataframe tbody tr th:only-of-type {\n",
              "        vertical-align: middle;\n",
              "    }\n",
              "\n",
              "    .dataframe tbody tr th {\n",
              "        vertical-align: top;\n",
              "    }\n",
              "\n",
              "    .dataframe thead th {\n",
              "        text-align: right;\n",
              "    }\n",
              "</style>\n",
              "<table border=\"1\" class=\"dataframe\">\n",
              "  <thead>\n",
              "    <tr style=\"text-align: right;\">\n",
              "      <th></th>\n",
              "      <th>month_number</th>\n",
              "      <th>facecream</th>\n",
              "      <th>facewash</th>\n",
              "      <th>toothpaste</th>\n",
              "      <th>bathingsoap</th>\n",
              "      <th>shampoo</th>\n",
              "      <th>moisturizer</th>\n",
              "      <th>total_units</th>\n",
              "      <th>total_profit</th>\n",
              "    </tr>\n",
              "  </thead>\n",
              "  <tbody>\n",
              "    <tr>\n",
              "      <th>0</th>\n",
              "      <td>1</td>\n",
              "      <td>2500</td>\n",
              "      <td>1500</td>\n",
              "      <td>5200</td>\n",
              "      <td>9200</td>\n",
              "      <td>1200</td>\n",
              "      <td>1500</td>\n",
              "      <td>21100</td>\n",
              "      <td>211000</td>\n",
              "    </tr>\n",
              "    <tr>\n",
              "      <th>1</th>\n",
              "      <td>2</td>\n",
              "      <td>2630</td>\n",
              "      <td>1200</td>\n",
              "      <td>5100</td>\n",
              "      <td>6100</td>\n",
              "      <td>2100</td>\n",
              "      <td>1200</td>\n",
              "      <td>18330</td>\n",
              "      <td>183300</td>\n",
              "    </tr>\n",
              "    <tr>\n",
              "      <th>2</th>\n",
              "      <td>3</td>\n",
              "      <td>2140</td>\n",
              "      <td>1340</td>\n",
              "      <td>4550</td>\n",
              "      <td>9550</td>\n",
              "      <td>3550</td>\n",
              "      <td>1340</td>\n",
              "      <td>22470</td>\n",
              "      <td>224700</td>\n",
              "    </tr>\n",
              "    <tr>\n",
              "      <th>3</th>\n",
              "      <td>4</td>\n",
              "      <td>3400</td>\n",
              "      <td>1130</td>\n",
              "      <td>5870</td>\n",
              "      <td>8870</td>\n",
              "      <td>1870</td>\n",
              "      <td>1130</td>\n",
              "      <td>22270</td>\n",
              "      <td>222700</td>\n",
              "    </tr>\n",
              "    <tr>\n",
              "      <th>4</th>\n",
              "      <td>5</td>\n",
              "      <td>3600</td>\n",
              "      <td>1740</td>\n",
              "      <td>4560</td>\n",
              "      <td>7760</td>\n",
              "      <td>1560</td>\n",
              "      <td>1740</td>\n",
              "      <td>20960</td>\n",
              "      <td>209600</td>\n",
              "    </tr>\n",
              "    <tr>\n",
              "      <th>5</th>\n",
              "      <td>6</td>\n",
              "      <td>2760</td>\n",
              "      <td>1555</td>\n",
              "      <td>4890</td>\n",
              "      <td>7490</td>\n",
              "      <td>1890</td>\n",
              "      <td>1555</td>\n",
              "      <td>20140</td>\n",
              "      <td>201400</td>\n",
              "    </tr>\n",
              "    <tr>\n",
              "      <th>6</th>\n",
              "      <td>7</td>\n",
              "      <td>2980</td>\n",
              "      <td>1120</td>\n",
              "      <td>4780</td>\n",
              "      <td>8980</td>\n",
              "      <td>1780</td>\n",
              "      <td>1120</td>\n",
              "      <td>29550</td>\n",
              "      <td>295500</td>\n",
              "    </tr>\n",
              "    <tr>\n",
              "      <th>7</th>\n",
              "      <td>8</td>\n",
              "      <td>3700</td>\n",
              "      <td>1400</td>\n",
              "      <td>5860</td>\n",
              "      <td>9960</td>\n",
              "      <td>2860</td>\n",
              "      <td>1400</td>\n",
              "      <td>36140</td>\n",
              "      <td>361400</td>\n",
              "    </tr>\n",
              "    <tr>\n",
              "      <th>8</th>\n",
              "      <td>9</td>\n",
              "      <td>3540</td>\n",
              "      <td>1780</td>\n",
              "      <td>6100</td>\n",
              "      <td>8100</td>\n",
              "      <td>2100</td>\n",
              "      <td>1780</td>\n",
              "      <td>23400</td>\n",
              "      <td>234000</td>\n",
              "    </tr>\n",
              "    <tr>\n",
              "      <th>9</th>\n",
              "      <td>10</td>\n",
              "      <td>1990</td>\n",
              "      <td>1890</td>\n",
              "      <td>8300</td>\n",
              "      <td>10300</td>\n",
              "      <td>2300</td>\n",
              "      <td>1890</td>\n",
              "      <td>26670</td>\n",
              "      <td>266700</td>\n",
              "    </tr>\n",
              "    <tr>\n",
              "      <th>10</th>\n",
              "      <td>11</td>\n",
              "      <td>2340</td>\n",
              "      <td>2100</td>\n",
              "      <td>7300</td>\n",
              "      <td>13300</td>\n",
              "      <td>2400</td>\n",
              "      <td>2100</td>\n",
              "      <td>41280</td>\n",
              "      <td>412800</td>\n",
              "    </tr>\n",
              "    <tr>\n",
              "      <th>11</th>\n",
              "      <td>12</td>\n",
              "      <td>2900</td>\n",
              "      <td>1760</td>\n",
              "      <td>7400</td>\n",
              "      <td>14400</td>\n",
              "      <td>1800</td>\n",
              "      <td>1760</td>\n",
              "      <td>30020</td>\n",
              "      <td>300200</td>\n",
              "    </tr>\n",
              "  </tbody>\n",
              "</table>\n",
              "</div>\n",
              "      <button class=\"colab-df-convert\" onclick=\"convertToInteractive('df-317a3c23-7127-4488-a81f-5eb3509d7183')\"\n",
              "              title=\"Convert this dataframe to an interactive table.\"\n",
              "              style=\"display:none;\">\n",
              "        \n",
              "  <svg xmlns=\"http://www.w3.org/2000/svg\" height=\"24px\"viewBox=\"0 0 24 24\"\n",
              "       width=\"24px\">\n",
              "    <path d=\"M0 0h24v24H0V0z\" fill=\"none\"/>\n",
              "    <path d=\"M18.56 5.44l.94 2.06.94-2.06 2.06-.94-2.06-.94-.94-2.06-.94 2.06-2.06.94zm-11 1L8.5 8.5l.94-2.06 2.06-.94-2.06-.94L8.5 2.5l-.94 2.06-2.06.94zm10 10l.94 2.06.94-2.06 2.06-.94-2.06-.94-.94-2.06-.94 2.06-2.06.94z\"/><path d=\"M17.41 7.96l-1.37-1.37c-.4-.4-.92-.59-1.43-.59-.52 0-1.04.2-1.43.59L10.3 9.45l-7.72 7.72c-.78.78-.78 2.05 0 2.83L4 21.41c.39.39.9.59 1.41.59.51 0 1.02-.2 1.41-.59l7.78-7.78 2.81-2.81c.8-.78.8-2.07 0-2.86zM5.41 20L4 18.59l7.72-7.72 1.47 1.35L5.41 20z\"/>\n",
              "  </svg>\n",
              "      </button>\n",
              "      \n",
              "  <style>\n",
              "    .colab-df-container {\n",
              "      display:flex;\n",
              "      flex-wrap:wrap;\n",
              "      gap: 12px;\n",
              "    }\n",
              "\n",
              "    .colab-df-convert {\n",
              "      background-color: #E8F0FE;\n",
              "      border: none;\n",
              "      border-radius: 50%;\n",
              "      cursor: pointer;\n",
              "      display: none;\n",
              "      fill: #1967D2;\n",
              "      height: 32px;\n",
              "      padding: 0 0 0 0;\n",
              "      width: 32px;\n",
              "    }\n",
              "\n",
              "    .colab-df-convert:hover {\n",
              "      background-color: #E2EBFA;\n",
              "      box-shadow: 0px 1px 2px rgba(60, 64, 67, 0.3), 0px 1px 3px 1px rgba(60, 64, 67, 0.15);\n",
              "      fill: #174EA6;\n",
              "    }\n",
              "\n",
              "    [theme=dark] .colab-df-convert {\n",
              "      background-color: #3B4455;\n",
              "      fill: #D2E3FC;\n",
              "    }\n",
              "\n",
              "    [theme=dark] .colab-df-convert:hover {\n",
              "      background-color: #434B5C;\n",
              "      box-shadow: 0px 1px 3px 1px rgba(0, 0, 0, 0.15);\n",
              "      filter: drop-shadow(0px 1px 2px rgba(0, 0, 0, 0.3));\n",
              "      fill: #FFFFFF;\n",
              "    }\n",
              "  </style>\n",
              "\n",
              "      <script>\n",
              "        const buttonEl =\n",
              "          document.querySelector('#df-317a3c23-7127-4488-a81f-5eb3509d7183 button.colab-df-convert');\n",
              "        buttonEl.style.display =\n",
              "          google.colab.kernel.accessAllowed ? 'block' : 'none';\n",
              "\n",
              "        async function convertToInteractive(key) {\n",
              "          const element = document.querySelector('#df-317a3c23-7127-4488-a81f-5eb3509d7183');\n",
              "          const dataTable =\n",
              "            await google.colab.kernel.invokeFunction('convertToInteractive',\n",
              "                                                     [key], {});\n",
              "          if (!dataTable) return;\n",
              "\n",
              "          const docLinkHtml = 'Like what you see? Visit the ' +\n",
              "            '<a target=\"_blank\" href=https://colab.research.google.com/notebooks/data_table.ipynb>data table notebook</a>'\n",
              "            + ' to learn more about interactive tables.';\n",
              "          element.innerHTML = '';\n",
              "          dataTable['output_type'] = 'display_data';\n",
              "          await google.colab.output.renderOutput(dataTable, element);\n",
              "          const docLink = document.createElement('div');\n",
              "          docLink.innerHTML = docLinkHtml;\n",
              "          element.appendChild(docLink);\n",
              "        }\n",
              "      </script>\n",
              "    </div>\n",
              "  </div>\n",
              "  "
            ]
          },
          "metadata": {},
          "execution_count": 17
        }
      ]
    },
    {
      "cell_type": "code",
      "source": [
        "sales_df.shape"
      ],
      "metadata": {
        "colab": {
          "base_uri": "https://localhost:8080/"
        },
        "id": "oZuk4nFmMQfI",
        "outputId": "f2e5a3c0-a7b8-4a89-97d9-1aa4fbea6818"
      },
      "execution_count": 18,
      "outputs": [
        {
          "output_type": "execute_result",
          "data": {
            "text/plain": [
              "(12, 9)"
            ]
          },
          "metadata": {},
          "execution_count": 18
        }
      ]
    },
    {
      "cell_type": "code",
      "source": [
        "sales_df.describe()"
      ],
      "metadata": {
        "colab": {
          "base_uri": "https://localhost:8080/",
          "height": 300
        },
        "id": "xlTpRaDbMVWD",
        "outputId": "948269e5-411b-46c3-baab-0e0b25267864"
      },
      "execution_count": 19,
      "outputs": [
        {
          "output_type": "execute_result",
          "data": {
            "text/plain": [
              "       month_number    facecream     facewash   toothpaste   bathingsoap  \\\n",
              "count     12.000000    12.000000    12.000000    12.000000     12.000000   \n",
              "mean       6.500000  2873.333333  1542.916667  5825.833333   9500.833333   \n",
              "std        3.605551   584.595172   316.733745  1242.032486   2348.095779   \n",
              "min        1.000000  1990.000000  1120.000000  4550.000000   6100.000000   \n",
              "25%        3.750000  2460.000000  1305.000000  4862.500000   8015.000000   \n",
              "50%        6.500000  2830.000000  1527.500000  5530.000000   9090.000000   \n",
              "75%        9.250000  3435.000000  1765.000000  6400.000000  10045.000000   \n",
              "max       12.000000  3700.000000  2100.000000  8300.000000  14400.000000   \n",
              "\n",
              "           shampoo  moisturizer  total_units   total_profit  \n",
              "count    12.000000    12.000000     12.00000      12.000000  \n",
              "mean   2117.500000  1542.916667  26027.50000  260275.000000  \n",
              "std     617.724931   316.733745   7014.36594   70143.659404  \n",
              "min    1200.000000  1120.000000  18330.00000  183300.000000  \n",
              "25%    1795.000000  1305.000000  21065.00000  210650.000000  \n",
              "50%    1995.000000  1527.500000  22935.00000  229350.000000  \n",
              "75%    2325.000000  1765.000000  29667.50000  296675.000000  \n",
              "max    3550.000000  2100.000000  41280.00000  412800.000000  "
            ],
            "text/html": [
              "\n",
              "  <div id=\"df-c2cd70e7-2064-4913-9a66-9ae2edb384d3\">\n",
              "    <div class=\"colab-df-container\">\n",
              "      <div>\n",
              "<style scoped>\n",
              "    .dataframe tbody tr th:only-of-type {\n",
              "        vertical-align: middle;\n",
              "    }\n",
              "\n",
              "    .dataframe tbody tr th {\n",
              "        vertical-align: top;\n",
              "    }\n",
              "\n",
              "    .dataframe thead th {\n",
              "        text-align: right;\n",
              "    }\n",
              "</style>\n",
              "<table border=\"1\" class=\"dataframe\">\n",
              "  <thead>\n",
              "    <tr style=\"text-align: right;\">\n",
              "      <th></th>\n",
              "      <th>month_number</th>\n",
              "      <th>facecream</th>\n",
              "      <th>facewash</th>\n",
              "      <th>toothpaste</th>\n",
              "      <th>bathingsoap</th>\n",
              "      <th>shampoo</th>\n",
              "      <th>moisturizer</th>\n",
              "      <th>total_units</th>\n",
              "      <th>total_profit</th>\n",
              "    </tr>\n",
              "  </thead>\n",
              "  <tbody>\n",
              "    <tr>\n",
              "      <th>count</th>\n",
              "      <td>12.000000</td>\n",
              "      <td>12.000000</td>\n",
              "      <td>12.000000</td>\n",
              "      <td>12.000000</td>\n",
              "      <td>12.000000</td>\n",
              "      <td>12.000000</td>\n",
              "      <td>12.000000</td>\n",
              "      <td>12.00000</td>\n",
              "      <td>12.000000</td>\n",
              "    </tr>\n",
              "    <tr>\n",
              "      <th>mean</th>\n",
              "      <td>6.500000</td>\n",
              "      <td>2873.333333</td>\n",
              "      <td>1542.916667</td>\n",
              "      <td>5825.833333</td>\n",
              "      <td>9500.833333</td>\n",
              "      <td>2117.500000</td>\n",
              "      <td>1542.916667</td>\n",
              "      <td>26027.50000</td>\n",
              "      <td>260275.000000</td>\n",
              "    </tr>\n",
              "    <tr>\n",
              "      <th>std</th>\n",
              "      <td>3.605551</td>\n",
              "      <td>584.595172</td>\n",
              "      <td>316.733745</td>\n",
              "      <td>1242.032486</td>\n",
              "      <td>2348.095779</td>\n",
              "      <td>617.724931</td>\n",
              "      <td>316.733745</td>\n",
              "      <td>7014.36594</td>\n",
              "      <td>70143.659404</td>\n",
              "    </tr>\n",
              "    <tr>\n",
              "      <th>min</th>\n",
              "      <td>1.000000</td>\n",
              "      <td>1990.000000</td>\n",
              "      <td>1120.000000</td>\n",
              "      <td>4550.000000</td>\n",
              "      <td>6100.000000</td>\n",
              "      <td>1200.000000</td>\n",
              "      <td>1120.000000</td>\n",
              "      <td>18330.00000</td>\n",
              "      <td>183300.000000</td>\n",
              "    </tr>\n",
              "    <tr>\n",
              "      <th>25%</th>\n",
              "      <td>3.750000</td>\n",
              "      <td>2460.000000</td>\n",
              "      <td>1305.000000</td>\n",
              "      <td>4862.500000</td>\n",
              "      <td>8015.000000</td>\n",
              "      <td>1795.000000</td>\n",
              "      <td>1305.000000</td>\n",
              "      <td>21065.00000</td>\n",
              "      <td>210650.000000</td>\n",
              "    </tr>\n",
              "    <tr>\n",
              "      <th>50%</th>\n",
              "      <td>6.500000</td>\n",
              "      <td>2830.000000</td>\n",
              "      <td>1527.500000</td>\n",
              "      <td>5530.000000</td>\n",
              "      <td>9090.000000</td>\n",
              "      <td>1995.000000</td>\n",
              "      <td>1527.500000</td>\n",
              "      <td>22935.00000</td>\n",
              "      <td>229350.000000</td>\n",
              "    </tr>\n",
              "    <tr>\n",
              "      <th>75%</th>\n",
              "      <td>9.250000</td>\n",
              "      <td>3435.000000</td>\n",
              "      <td>1765.000000</td>\n",
              "      <td>6400.000000</td>\n",
              "      <td>10045.000000</td>\n",
              "      <td>2325.000000</td>\n",
              "      <td>1765.000000</td>\n",
              "      <td>29667.50000</td>\n",
              "      <td>296675.000000</td>\n",
              "    </tr>\n",
              "    <tr>\n",
              "      <th>max</th>\n",
              "      <td>12.000000</td>\n",
              "      <td>3700.000000</td>\n",
              "      <td>2100.000000</td>\n",
              "      <td>8300.000000</td>\n",
              "      <td>14400.000000</td>\n",
              "      <td>3550.000000</td>\n",
              "      <td>2100.000000</td>\n",
              "      <td>41280.00000</td>\n",
              "      <td>412800.000000</td>\n",
              "    </tr>\n",
              "  </tbody>\n",
              "</table>\n",
              "</div>\n",
              "      <button class=\"colab-df-convert\" onclick=\"convertToInteractive('df-c2cd70e7-2064-4913-9a66-9ae2edb384d3')\"\n",
              "              title=\"Convert this dataframe to an interactive table.\"\n",
              "              style=\"display:none;\">\n",
              "        \n",
              "  <svg xmlns=\"http://www.w3.org/2000/svg\" height=\"24px\"viewBox=\"0 0 24 24\"\n",
              "       width=\"24px\">\n",
              "    <path d=\"M0 0h24v24H0V0z\" fill=\"none\"/>\n",
              "    <path d=\"M18.56 5.44l.94 2.06.94-2.06 2.06-.94-2.06-.94-.94-2.06-.94 2.06-2.06.94zm-11 1L8.5 8.5l.94-2.06 2.06-.94-2.06-.94L8.5 2.5l-.94 2.06-2.06.94zm10 10l.94 2.06.94-2.06 2.06-.94-2.06-.94-.94-2.06-.94 2.06-2.06.94z\"/><path d=\"M17.41 7.96l-1.37-1.37c-.4-.4-.92-.59-1.43-.59-.52 0-1.04.2-1.43.59L10.3 9.45l-7.72 7.72c-.78.78-.78 2.05 0 2.83L4 21.41c.39.39.9.59 1.41.59.51 0 1.02-.2 1.41-.59l7.78-7.78 2.81-2.81c.8-.78.8-2.07 0-2.86zM5.41 20L4 18.59l7.72-7.72 1.47 1.35L5.41 20z\"/>\n",
              "  </svg>\n",
              "      </button>\n",
              "      \n",
              "  <style>\n",
              "    .colab-df-container {\n",
              "      display:flex;\n",
              "      flex-wrap:wrap;\n",
              "      gap: 12px;\n",
              "    }\n",
              "\n",
              "    .colab-df-convert {\n",
              "      background-color: #E8F0FE;\n",
              "      border: none;\n",
              "      border-radius: 50%;\n",
              "      cursor: pointer;\n",
              "      display: none;\n",
              "      fill: #1967D2;\n",
              "      height: 32px;\n",
              "      padding: 0 0 0 0;\n",
              "      width: 32px;\n",
              "    }\n",
              "\n",
              "    .colab-df-convert:hover {\n",
              "      background-color: #E2EBFA;\n",
              "      box-shadow: 0px 1px 2px rgba(60, 64, 67, 0.3), 0px 1px 3px 1px rgba(60, 64, 67, 0.15);\n",
              "      fill: #174EA6;\n",
              "    }\n",
              "\n",
              "    [theme=dark] .colab-df-convert {\n",
              "      background-color: #3B4455;\n",
              "      fill: #D2E3FC;\n",
              "    }\n",
              "\n",
              "    [theme=dark] .colab-df-convert:hover {\n",
              "      background-color: #434B5C;\n",
              "      box-shadow: 0px 1px 3px 1px rgba(0, 0, 0, 0.15);\n",
              "      filter: drop-shadow(0px 1px 2px rgba(0, 0, 0, 0.3));\n",
              "      fill: #FFFFFF;\n",
              "    }\n",
              "  </style>\n",
              "\n",
              "      <script>\n",
              "        const buttonEl =\n",
              "          document.querySelector('#df-c2cd70e7-2064-4913-9a66-9ae2edb384d3 button.colab-df-convert');\n",
              "        buttonEl.style.display =\n",
              "          google.colab.kernel.accessAllowed ? 'block' : 'none';\n",
              "\n",
              "        async function convertToInteractive(key) {\n",
              "          const element = document.querySelector('#df-c2cd70e7-2064-4913-9a66-9ae2edb384d3');\n",
              "          const dataTable =\n",
              "            await google.colab.kernel.invokeFunction('convertToInteractive',\n",
              "                                                     [key], {});\n",
              "          if (!dataTable) return;\n",
              "\n",
              "          const docLinkHtml = 'Like what you see? Visit the ' +\n",
              "            '<a target=\"_blank\" href=https://colab.research.google.com/notebooks/data_table.ipynb>data table notebook</a>'\n",
              "            + ' to learn more about interactive tables.';\n",
              "          element.innerHTML = '';\n",
              "          dataTable['output_type'] = 'display_data';\n",
              "          await google.colab.output.renderOutput(dataTable, element);\n",
              "          const docLink = document.createElement('div');\n",
              "          docLink.innerHTML = docLinkHtml;\n",
              "          element.appendChild(docLink);\n",
              "        }\n",
              "      </script>\n",
              "    </div>\n",
              "  </div>\n",
              "  "
            ]
          },
          "metadata": {},
          "execution_count": 19
        }
      ]
    },
    {
      "cell_type": "markdown",
      "source": [
        "From describe() we are able to know the minimum, maximum and the average number of products sold each month for each product given in the dataset.\n",
        "\n",
        "* We can see that facewash and moisturizer has the least number of units sold in a month and bathing soap has the most number of units sold in a month."
      ],
      "metadata": {
        "id": "xyuPl4kHMhKD"
      }
    },
    {
      "cell_type": "markdown",
      "source": [
        "### **1. Plot the total profit across months**"
      ],
      "metadata": {
        "id": "s6n8163NNUaZ"
      }
    },
    {
      "cell_type": "code",
      "source": [
        "# total profit across months\n",
        "monthly_profit = sales_df[['total_profit']]\n",
        "monthly_profit.set_index(sales_df['month_number'], inplace=True)\n",
        "print(monthly_profit)\n",
        "\n",
        "# plot the monthly profit\n",
        "plt.plot(monthly_profit)\n",
        "plt.title(\"Total profit across each month\")\n",
        "plt.xlabel(\"Month Number\")\n",
        "plt.ylabel(\"Total Profit\")"
      ],
      "metadata": {
        "colab": {
          "base_uri": "https://localhost:8080/",
          "height": 555
        },
        "id": "Rd2aHx3eMYdG",
        "outputId": "fbc31fcf-138d-4bfc-d86b-449c3d0ab981"
      },
      "execution_count": 20,
      "outputs": [
        {
          "output_type": "stream",
          "name": "stdout",
          "text": [
            "              total_profit\n",
            "month_number              \n",
            "1                   211000\n",
            "2                   183300\n",
            "3                   224700\n",
            "4                   222700\n",
            "5                   209600\n",
            "6                   201400\n",
            "7                   295500\n",
            "8                   361400\n",
            "9                   234000\n",
            "10                  266700\n",
            "11                  412800\n",
            "12                  300200\n"
          ]
        },
        {
          "output_type": "execute_result",
          "data": {
            "text/plain": [
              "Text(0, 0.5, 'Total Profit')"
            ]
          },
          "metadata": {},
          "execution_count": 20
        },
        {
          "output_type": "display_data",
          "data": {
            "text/plain": [
              "<Figure size 432x288 with 1 Axes>"
            ],
            "image/png": "[encoded data removed]"
          },
          "metadata": {
            "needs_background": "light"
          }
        }
      ]
    },
    {
      "cell_type": "markdown",
      "source": [
        "* We can infer from the graph that the sales or profit starts increasing from the festive season till December and then again drops in the starting of year.\n",
        "\n",
        "* We can observe the peak profit in the month of November."
      ],
      "metadata": {
        "id": "nktkhWlYOF--"
      }
    },
    {
      "cell_type": "markdown",
      "source": [
        "### **2. Read face cream and facewash product sales data and show it using the bar chart. The bar chart should display the number of units sold per month for each product. Add a separate bar for each product in the same chart.**"
      ],
      "metadata": {
        "id": "m29mW1hAOzWc"
      }
    },
    {
      "cell_type": "code",
      "source": [
        "# read the face products and show it using bar chart\n",
        "face_product = sales_df[['facecream','facewash']]\n",
        "face_product.set_index(sales_df['month_number'], inplace=True)\n",
        "print(face_product)\n",
        "\n",
        "# plot the face product units sold\n",
        "face_product.plot(kind='bar')\n",
        "plt.title(\"Facecream and Facewash units sold each month\")\n",
        "plt.xlabel(\"Facecream and Facewash Units\")\n",
        "plt.ylabel(\"Number of Units sold\")"
      ],
      "metadata": {
        "colab": {
          "base_uri": "https://localhost:8080/",
          "height": 558
        },
        "id": "RNp6Hgi8Nq75",
        "outputId": "aef3aa8d-5175-4d02-fd8d-d27c4a217f2b"
      },
      "execution_count": 21,
      "outputs": [
        {
          "output_type": "stream",
          "name": "stdout",
          "text": [
            "              facecream  facewash\n",
            "month_number                     \n",
            "1                  2500      1500\n",
            "2                  2630      1200\n",
            "3                  2140      1340\n",
            "4                  3400      1130\n",
            "5                  3600      1740\n",
            "6                  2760      1555\n",
            "7                  2980      1120\n",
            "8                  3700      1400\n",
            "9                  3540      1780\n",
            "10                 1990      1890\n",
            "11                 2340      2100\n",
            "12                 2900      1760\n"
          ]
        },
        {
          "output_type": "execute_result",
          "data": {
            "text/plain": [
              "Text(0, 0.5, 'Number of Units sold')"
            ]
          },
          "metadata": {},
          "execution_count": 21
        },
        {
          "output_type": "display_data",
          "data": {
            "text/plain": [
              "<Figure size 432x288 with 1 Axes>"
            ],
            "image/png": "[encoded data removed]"
          },
          "metadata": {
            "needs_background": "light"
          }
        }
      ]
    },
    {
      "cell_type": "markdown",
      "source": [
        "* In the overall scenario the units sold for facecream is always higher than the units sold for facewash."
      ],
      "metadata": {
        "id": "TKvPGW0vPjPU"
      }
    },
    {
      "cell_type": "markdown",
      "source": [
        "### **3. In which month the units sold for face products i.e, facewash and facecream were the highest and the lowest? Plot the total units sold for them.**"
      ],
      "metadata": {
        "id": "4vnoEShhQUic"
      }
    },
    {
      "cell_type": "code",
      "source": [
        "# find total units sold for faceproducts in each month\n",
        "face_product['total units'] = face_product['facecream'] + face_product['facewash']\n",
        "print(face_product)\n",
        "\n",
        "units_face_product = face_product['total units']\n",
        "\n",
        "# plot the total units of faceproducts for each month\n",
        "plt.plot(units_face_product)\n",
        "plt.title(\"The number of units sold for faceproducts in each month\")\n",
        "plt.xlabel(\"Month Number\")\n",
        "plt.ylabel(\"Number of Units Sold\")"
      ],
      "metadata": {
        "colab": {
          "base_uri": "https://localhost:8080/",
          "height": 555
        },
        "id": "gMRx19zXOpYV",
        "outputId": "25840bfc-1688-4091-ead5-f51b7a196fe7"
      },
      "execution_count": 26,
      "outputs": [
        {
          "output_type": "stream",
          "name": "stdout",
          "text": [
            "              facecream  facewash  total units\n",
            "month_number                                  \n",
            "1                  2500      1500         4000\n",
            "2                  2630      1200         3830\n",
            "3                  2140      1340         3480\n",
            "4                  3400      1130         4530\n",
            "5                  3600      1740         5340\n",
            "6                  2760      1555         4315\n",
            "7                  2980      1120         4100\n",
            "8                  3700      1400         5100\n",
            "9                  3540      1780         5320\n",
            "10                 1990      1890         3880\n",
            "11                 2340      2100         4440\n",
            "12                 2900      1760         4660\n"
          ]
        },
        {
          "output_type": "execute_result",
          "data": {
            "text/plain": [
              "Text(0, 0.5, 'Number of Units Sold')"
            ]
          },
          "metadata": {},
          "execution_count": 26
        },
        {
          "output_type": "display_data",
          "data": {
            "text/plain": [
              "<Figure size 432x288 with 1 Axes>"
            ],
            "image/png": "[encoded data removed]"
          },
          "metadata": {
            "needs_background": "light"
          }
        }
      ]
    },
    {
      "cell_type": "markdown",
      "source": [
        "* We can observe from the plot above that the most number of units sold for faceproducts in a month was in May(5340) and September(5320).\n",
        "\n",
        "* The least number of units sold for faceproducts was in March(3480)."
      ],
      "metadata": {
        "id": "gKLpme-FSggs"
      }
    },
    {
      "cell_type": "markdown",
      "source": [
        "### **4. Read bathing soap and shampoo product sales data and show it using the bar chart. The bar chart should display the number of units sold per month for each product. Add a separate bar for each product in the same chart.**"
      ],
      "metadata": {
        "id": "c99W7F8yVD5N"
      }
    },
    {
      "cell_type": "code",
      "source": [
        "# read the bathing products and show using bar chart\n",
        "bathing_product = sales_df[['bathingsoap', 'shampoo']]\n",
        "bathing_product.set_index(sales_df['month_number'], inplace=True)\n",
        "print(bathing_product)\n",
        "\n",
        "# plot the bathing products using bar chart\n",
        "bathing_product.plot(kind='bar')\n",
        "plt.title(\"Number of Units Sold for Bathing Soap and Shampoo\")\n",
        "plt.xlabel(\"Bathing Soap and Shampoo Units\")\n",
        "plt.ylabel(\"Number of Units Sold\")"
      ],
      "metadata": {
        "colab": {
          "base_uri": "https://localhost:8080/",
          "height": 558
        },
        "id": "ZsUP_tCIQs4n",
        "outputId": "00776a4e-6000-41aa-ef6a-3e51de2431f2"
      },
      "execution_count": 29,
      "outputs": [
        {
          "output_type": "stream",
          "name": "stdout",
          "text": [
            "              bathingsoap  shampoo\n",
            "month_number                      \n",
            "1                    9200     1200\n",
            "2                    6100     2100\n",
            "3                    9550     3550\n",
            "4                    8870     1870\n",
            "5                    7760     1560\n",
            "6                    7490     1890\n",
            "7                    8980     1780\n",
            "8                    9960     2860\n",
            "9                    8100     2100\n",
            "10                  10300     2300\n",
            "11                  13300     2400\n",
            "12                  14400     1800\n"
          ]
        },
        {
          "output_type": "execute_result",
          "data": {
            "text/plain": [
              "Text(0, 0.5, 'Number of Units Sold')"
            ]
          },
          "metadata": {},
          "execution_count": 29
        },
        {
          "output_type": "display_data",
          "data": {
            "text/plain": [
              "<Figure size 432x288 with 1 Axes>"
            ],
            "image/png": "[encoded data removed]"
          },
          "metadata": {
            "needs_background": "light"
          }
        }
      ]
    },
    {
      "cell_type": "markdown",
      "source": [
        "* As assumed the units sold for bathing soap is much higher than the units sold for shampoo."
      ],
      "metadata": {
        "id": "XHKxz2TOWSHq"
      }
    },
    {
      "cell_type": "markdown",
      "source": [
        "### **5. In which month the units sold for bathing products i.e, bathing soap and shampoo were the highest and the lowest? Plot the total units sold for them.**"
      ],
      "metadata": {
        "id": "tbTXtiTjWK1O"
      }
    },
    {
      "cell_type": "code",
      "source": [
        "# find the total units sold for bathing products in each month\n",
        "bathing_product['total units'] = bathing_product['bathingsoap'] + bathing_product['shampoo']\n",
        "print(bathing_product)\n",
        "\n",
        "units_bathing_product = bathing_product['total units']\n",
        "\n",
        "# plot the units sold for bathing products\n",
        "plt.plot(units_bathing_product)\n",
        "plt.title(\"The number of units sold for bathing products in each month\")\n",
        "plt.xlabel(\"Month Number\")\n",
        "plt.ylabel(\"Number of Units Sold\")"
      ],
      "metadata": {
        "colab": {
          "base_uri": "https://localhost:8080/",
          "height": 555
        },
        "id": "tfX654HwVYh3",
        "outputId": "f87650b0-89a9-44e9-b88e-f10945f75616"
      },
      "execution_count": 33,
      "outputs": [
        {
          "output_type": "stream",
          "name": "stdout",
          "text": [
            "              bathingsoap  shampoo  total units\n",
            "month_number                                   \n",
            "1                    9200     1200        10400\n",
            "2                    6100     2100         8200\n",
            "3                    9550     3550        13100\n",
            "4                    8870     1870        10740\n",
            "5                    7760     1560         9320\n",
            "6                    7490     1890         9380\n",
            "7                    8980     1780        10760\n",
            "8                    9960     2860        12820\n",
            "9                    8100     2100        10200\n",
            "10                  10300     2300        12600\n",
            "11                  13300     2400        15700\n",
            "12                  14400     1800        16200\n"
          ]
        },
        {
          "output_type": "execute_result",
          "data": {
            "text/plain": [
              "Text(0, 0.5, 'Number of Units Sold')"
            ]
          },
          "metadata": {},
          "execution_count": 33
        },
        {
          "output_type": "display_data",
          "data": {
            "text/plain": [
              "<Figure size 432x288 with 1 Axes>"
            ],
            "image/png": "[encoded data removed]"
          },
          "metadata": {
            "needs_background": "light"
          }
        }
      ]
    },
    {
      "cell_type": "markdown",
      "source": [
        "* The units sold for bathing products is much higher during the winter months of November(15700) and December(16200).\n",
        "\n",
        "* The least number of units sold for bathing products were in the month of February(8200)."
      ],
      "metadata": {
        "id": "eA1D10U1XQ_f"
      }
    },
    {
      "cell_type": "markdown",
      "source": [
        "### **6. Display the number of units sold per month for each product using multiline plots. (i.e. separate plotline for each product ).**"
      ],
      "metadata": {
        "id": "vKVSbHSbXwvt"
      }
    },
    {
      "cell_type": "code",
      "source": [
        "# read the data of all products and plot using multiline plots\n",
        "all_product = sales_df.iloc[:,1:7]\n",
        "all_product.set_index(sales_df['month_number'], inplace=True)\n",
        "print(all_product)\n",
        "\n",
        "# plot using multiline plots\n",
        "plt.plot(all_product)\n",
        "plt.title(\"Number of Units Sold for each product in each month\")\n",
        "plt.xlabel(\"Month Number\")\n",
        "plt.ylabel(\"Number of Units Sold\")\n",
        "plt.legend(['facecream', 'facewash', 'toothpaste', 'bathingsoap', 'shampoo', 'moisturizer'])"
      ],
      "metadata": {
        "colab": {
          "base_uri": "https://localhost:8080/",
          "height": 816
        },
        "id": "j-_usTVCWgUh",
        "outputId": "7da26b43-3393-4cea-c3f1-ba3c4abe26a3"
      },
      "execution_count": 43,
      "outputs": [
        {
          "output_type": "stream",
          "name": "stdout",
          "text": [
            "              facecream  facewash  toothpaste  bathingsoap  shampoo  \\\n",
            "month_number                                                          \n",
            "1                  2500      1500        5200         9200     1200   \n",
            "2                  2630      1200        5100         6100     2100   \n",
            "3                  2140      1340        4550         9550     3550   \n",
            "4                  3400      1130        5870         8870     1870   \n",
            "5                  3600      1740        4560         7760     1560   \n",
            "6                  2760      1555        4890         7490     1890   \n",
            "7                  2980      1120        4780         8980     1780   \n",
            "8                  3700      1400        5860         9960     2860   \n",
            "9                  3540      1780        6100         8100     2100   \n",
            "10                 1990      1890        8300        10300     2300   \n",
            "11                 2340      2100        7300        13300     2400   \n",
            "12                 2900      1760        7400        14400     1800   \n",
            "\n",
            "              moisturizer  \n",
            "month_number               \n",
            "1                    1500  \n",
            "2                    1200  \n",
            "3                    1340  \n",
            "4                    1130  \n",
            "5                    1740  \n",
            "6                    1555  \n",
            "7                    1120  \n",
            "8                    1400  \n",
            "9                    1780  \n",
            "10                   1890  \n",
            "11                   2100  \n",
            "12                   1760  \n"
          ]
        },
        {
          "output_type": "execute_result",
          "data": {
            "text/plain": [
              "<matplotlib.legend.Legend at 0x7fd1834542d0>"
            ]
          },
          "metadata": {},
          "execution_count": 43
        },
        {
          "output_type": "display_data",
          "data": {
            "text/plain": [
              "<Figure size 432x288 with 1 Axes>"
            ],
            "image/png": "[encoded data removed]"
          },
          "metadata": {
            "needs_background": "light"
          }
        }
      ]
    },
    {
      "cell_type": "markdown",
      "source": [
        "#### Few things to infer from the plot:\n",
        "\n",
        "* The number of units sold for bathing product is much higher than all other products for every month.\n",
        "\n",
        "* The peak sales are achieved during the festive months of September-December for every product.\n",
        "\n",
        "* The sales for every product stay down during the months of February-March."
      ],
      "metadata": {
        "id": "vc09PsQ2w7oq"
      }
    },
    {
      "cell_type": "code",
      "source": [
        ""
      ],
      "metadata": {
        "id": "xWB-ApIyYCmt"
      },
      "execution_count": null,
      "outputs": []
    }
  ]
}